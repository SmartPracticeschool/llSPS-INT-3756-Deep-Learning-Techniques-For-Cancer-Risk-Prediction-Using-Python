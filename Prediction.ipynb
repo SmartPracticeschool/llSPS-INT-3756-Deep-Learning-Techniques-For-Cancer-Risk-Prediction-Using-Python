{
 "cells": [
  {
   "cell_type": "code",
   "execution_count": 1,
   "metadata": {},
   "outputs": [
    {
     "name": "stderr",
     "output_type": "stream",
     "text": [
      "Using TensorFlow backend.\n"
     ]
    }
   ],
   "source": [
    "from keras.preprocessing.image import ImageDataGenerator"
   ]
  },
  {
   "cell_type": "code",
   "execution_count": 2,
   "metadata": {},
   "outputs": [],
   "source": [
    "train_datagen = ImageDataGenerator(rescale =1./255, shear_range = 0.2, zoom_range=0.2, horizontal_flip =True)\n",
    "test_datagen = ImageDataGenerator(rescale=1./255)"
   ]
  },
  {
   "cell_type": "code",
   "execution_count": 3,
   "metadata": {},
   "outputs": [
    {
     "name": "stdout",
     "output_type": "stream",
     "text": [
      "Found 400 images belonging to 2 classes.\n",
      "Found 120 images belonging to 2 classes.\n",
      "{'CANCER': 0, 'NORMAL': 1}\n"
     ]
    }
   ],
   "source": [
    "x_train=train_datagen.flow_from_directory(r'C:\\Users\\DELL\\Desktop\\Intership csv files\\Project\\Train',target_size=(64,64),batch_size=32,class_mode='categorical')\n",
    "x_test=test_datagen.flow_from_directory(r'C:\\Users\\DELL\\Desktop\\Intership csv files\\Project\\Test',target_size=(64,64),batch_size=32,class_mode='categorical')\n",
    "print(x_train.class_indices)"
   ]
  },
  {
   "cell_type": "code",
   "execution_count": 4,
   "metadata": {},
   "outputs": [
    {
     "data": {
      "text/plain": [
       "<function tensorflow.python.framework.ops.get_default_graph()>"
      ]
     },
     "execution_count": 4,
     "metadata": {},
     "output_type": "execute_result"
    }
   ],
   "source": [
    "import tensorflow as tf\n",
    "tf.compat.v1.get_default_graph"
   ]
  },
  {
   "cell_type": "code",
   "execution_count": 6,
   "metadata": {},
   "outputs": [],
   "source": [
    "from keras.models import Sequential\n",
    "from keras.layers import Dense\n",
    "from keras.layers import Convolution2D\n",
    "from keras.layers import MaxPooling2D\n",
    "from keras.layers import Flatten"
   ]
  },
  {
   "cell_type": "code",
   "execution_count": 7,
   "metadata": {},
   "outputs": [],
   "source": [
    "model = Sequential()\n"
   ]
  },
  {
   "cell_type": "code",
   "execution_count": 8,
   "metadata": {},
   "outputs": [],
   "source": [
    "model.add(Convolution2D(32,(3,3),input_shape = (64,64,3),activation = 'relu'))"
   ]
  },
  {
   "cell_type": "code",
   "execution_count": 9,
   "metadata": {},
   "outputs": [],
   "source": [
    "model.add(MaxPooling2D(pool_size = (2,2)))\n",
    "model.add(Flatten())"
   ]
  },
  {
   "cell_type": "code",
   "execution_count": 10,
   "metadata": {},
   "outputs": [
    {
     "name": "stderr",
     "output_type": "stream",
     "text": [
      "C:\\Users\\DELL\\Anaconda3\\lib\\site-packages\\ipykernel_launcher.py:1: UserWarning: Update your `Dense` call to the Keras 2 API: `Dense(activation=\"relu\", units=128, kernel_initializer=\"uniform\")`\n",
      "  \"\"\"Entry point for launching an IPython kernel.\n",
      "C:\\Users\\DELL\\Anaconda3\\lib\\site-packages\\ipykernel_launcher.py:2: UserWarning: Update your `Dense` call to the Keras 2 API: `Dense(activation=\"softmax\", units=2, kernel_initializer=\"uniform\")`\n",
      "  \n"
     ]
    }
   ],
   "source": [
    "model.add(Dense(output_dim = 128 ,init = 'uniform',activation = 'relu'))\n",
    "model.add(Dense(output_dim = 2,activation = 'softmax',init ='uniform'))"
   ]
  },
  {
   "cell_type": "code",
   "execution_count": 13,
   "metadata": {},
   "outputs": [],
   "source": [
    "model.compile(loss = 'categorical_crossentropy',optimizer = \"adam\",metrics = [\"accuracy\"])\n"
   ]
  },
  {
   "cell_type": "code",
   "execution_count": 15,
   "metadata": {},
   "outputs": [
    {
     "name": "stdout",
     "output_type": "stream",
     "text": [
      "Epoch 1/10\n",
      "400/400 [==============================] - 91s 227ms/step - loss: 0.5100 - accuracy: 0.7746 - val_loss: 0.8759 - val_accuracy: 0.4333\n",
      "Epoch 2/10\n",
      "400/400 [==============================] - 88s 220ms/step - loss: 0.1338 - accuracy: 0.9597 - val_loss: 1.0125 - val_accuracy: 0.4667\n",
      "Epoch 3/10\n",
      "400/400 [==============================] - 90s 226ms/step - loss: 0.0812 - accuracy: 0.9772 - val_loss: 1.4543 - val_accuracy: 0.4583\n",
      "Epoch 4/10\n",
      "400/400 [==============================] - 88s 221ms/step - loss: 0.0549 - accuracy: 0.9864 - val_loss: 1.9000 - val_accuracy: 0.4500\n",
      "Epoch 5/10\n",
      "400/400 [==============================] - 86s 215ms/step - loss: 0.0388 - accuracy: 0.9915 - val_loss: 1.5310 - val_accuracy: 0.4583\n",
      "Epoch 6/10\n",
      "400/400 [==============================] - 87s 219ms/step - loss: 0.0259 - accuracy: 0.9959 - val_loss: 2.3786 - val_accuracy: 0.4917\n",
      "Epoch 7/10\n",
      "400/400 [==============================] - 87s 218ms/step - loss: 0.0207 - accuracy: 0.9959 - val_loss: 2.7610 - val_accuracy: 0.4833\n",
      "Epoch 8/10\n",
      "400/400 [==============================] - 87s 218ms/step - loss: 0.0134 - accuracy: 0.9989 - val_loss: 2.3245 - val_accuracy: 0.4917\n",
      "Epoch 9/10\n",
      "400/400 [==============================] - 87s 218ms/step - loss: 0.0115 - accuracy: 0.9978 - val_loss: 2.2138 - val_accuracy: 0.5000\n",
      "Epoch 10/10\n",
      "400/400 [==============================] - 89s 221ms/step - loss: 0.0075 - accuracy: 0.9999 - val_loss: 2.1935 - val_accuracy: 0.4833\n"
     ]
    },
    {
     "data": {
      "text/plain": [
       "<keras.callbacks.callbacks.History at 0x18c6a6103c8>"
      ]
     },
     "execution_count": 15,
     "metadata": {},
     "output_type": "execute_result"
    }
   ],
   "source": [
    "model.fit_generator(x_train, steps_per_epoch = 400,epochs =10 ,validation_data = x_test,validation_steps = 120)\n"
   ]
  },
  {
   "cell_type": "code",
   "execution_count": 23,
   "metadata": {},
   "outputs": [],
   "source": [
    "model.save(\"cancer.h5\")"
   ]
  },
  {
   "cell_type": "code",
   "execution_count": null,
   "metadata": {},
   "outputs": [],
   "source": []
  }
 ],
 "metadata": {
  "kernelspec": {
   "display_name": "Python 3",
   "language": "python",
   "name": "python3"
  },
  "language_info": {
   "codemirror_mode": {
    "name": "ipython",
    "version": 3
   },
   "file_extension": ".py",
   "mimetype": "text/x-python",
   "name": "python",
   "nbconvert_exporter": "python",
   "pygments_lexer": "ipython3",
   "version": "3.7.4"
  }
 },
 "nbformat": 4,
 "nbformat_minor": 2
}
